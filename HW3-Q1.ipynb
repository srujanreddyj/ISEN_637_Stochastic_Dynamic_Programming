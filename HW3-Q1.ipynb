{
 "cells": [
  {
   "cell_type": "code",
   "execution_count": 1,
   "metadata": {},
   "outputs": [],
   "source": [
    "import numpy as np\n",
    "from scipy . interpolate import interp1d , interp2d\n",
    "import matplotlib . pyplot as plt"
   ]
  },
  {
   "cell_type": "code",
   "execution_count": 2,
   "metadata": {},
   "outputs": [],
   "source": [
    "##initialising values\n",
    "inf = 100000\n",
    "T_max = 50\n",
    "beta = 0.99\n"
   ]
  },
  {
   "cell_type": "code",
   "execution_count": 3,
   "metadata": {},
   "outputs": [],
   "source": [
    "total_r_grid = np.arange (0 ,10001 , step =100)\n",
    "indv_r_grid = np.arange (100 , 1201 , step =100)\n",
    "grid = np.meshgrid (total_r_grid , indv_r_grid)"
   ]
  },
  {
   "cell_type": "code",
   "execution_count": 4,
   "metadata": {},
   "outputs": [],
   "source": [
    "##defining a maximizing expected winning function\n",
    "def maximize(total_r,indv_r, r_func, V, beta):\n",
    "    v_func = interp2d (total_r_grid , indv_r_grid , V , fill_value = None)\n",
    "    \n",
    "    ##quiting value condition\n",
    "    q_quit = total_r - total_r *(indv_r ==1200)\n",
    "    \n",
    "    \n",
    "    V_next = np.zeros((12,))\n",
    "    \n",
    "    for i , g in enumerate (np.arange (100,1201,step =100)):\n",
    "        V_next[i] = v_func(total_r + g , g)\n",
    "    \n",
    "    ##continuing value condition\n",
    "    q_continue = beta * 1/12* np.sum(V_next) - inf*(indv_r ==1200)\n",
    "    \n",
    "    ##return value at t period, choice at t period(either to continue or not)\n",
    "    return np.max([q_continue , q_quit]),np.argmax([q_continue , q_quit])\n"
   ]
  },
  {
   "cell_type": "code",
   "execution_count": 5,
   "metadata": {},
   "outputs": [],
   "source": [
    "#defining the bellman function \n",
    "def bellman (r_func , V) :\n",
    "    V_new = np.zeros_like(V)\n",
    "    choice = np.zeros_like(V)\n",
    "    for i , total_r in enumerate (total_r_grid) :\n",
    "        for j , indv_r in enumerate (indv_r_grid) :\n",
    "            v_max , a_star = maximize(total_r, indv_r, r_func, V, beta)\n",
    "            if indv_r != 1200:\n",
    "                V_new [j,i] = v_max\n",
    "                choice [j,i] = a_star\n",
    "            else: pass\n",
    "    return V_new , choice"
   ]
  },
  {
   "cell_type": "code",
   "execution_count": 6,
   "metadata": {},
   "outputs": [],
   "source": [
    "r_func = lambda total_r , indv_r : indv_r *( indv_r !=1200)\n",
    "\n",
    "V = r_func(grid[0] , grid[1])\n",
    "\n",
    "V_history = [V]\n",
    "choice_history = []\n",
    "loss_history = []\n",
    "for i in range ( T_max ) :\n",
    "    V , Choice = bellman (r_func, V)\n",
    "    loss = np.abs(V - V_history[-1]).max ()\n",
    "    V_history.append(V)\n",
    "    choice_history.append(Choice)\n",
    "    loss_history.append(loss)\n",
    "    if loss ==0:\n",
    "        break\n"
   ]
  },
  {
   "cell_type": "code",
   "execution_count": 7,
   "metadata": {},
   "outputs": [
    {
     "data": {
      "text/plain": [
       "<matplotlib.legend.Legend at 0x194b03117c8>"
      ]
     },
     "execution_count": 7,
     "metadata": {},
     "output_type": "execute_result"
    },
    {
     "data": {
      "image/png": "[encoded data removed]",
      "text/plain": [
       "<Figure size 360x216 with 1 Axes>"
      ]
     },
     "metadata": {
      "needs_background": "light"
     },
     "output_type": "display_data"
    }
   ],
   "source": [
    "fig, ax1 = plt.subplots(figsize=(5, 3))\n",
    "ax1.plot(loss_history,label=\"loss\")\n",
    "ax1.legend()"
   ]
  },
  {
   "cell_type": "code",
   "execution_count": 8,
   "metadata": {},
   "outputs": [
    {
     "name": "stdout",
     "output_type": "stream",
     "text": [
      "0 - continuing : 5800 \n",
      " 1 - quitting at 5900\n"
     ]
    }
   ],
   "source": [
    "index = np.where(choice_history[-1][0]==1)[0][0]\n",
    "print(choice_history[-1][0][index-1], \"- continuing :\",total_r_grid[index-1],\"\\n\",choice_history[-1][0][index],\"- quitting at\",total_r_grid[index])\n"
   ]
  },
  {
   "cell_type": "markdown",
   "metadata": {},
   "source": [
    "The above values shows the when the person quits with the optimal policy"
   ]
  },
  {
   "cell_type": "code",
   "execution_count": null,
   "metadata": {},
   "outputs": [],
   "source": []
  }
 ],
 "metadata": {
  "kernelspec": {
   "display_name": "Python 3",
   "language": "python",
   "name": "python3"
  },
  "language_info": {
   "codemirror_mode": {
    "name": "ipython",
    "version": 3
   },
   "file_extension": ".py",
   "mimetype": "text/x-python",
   "name": "python",
   "nbconvert_exporter": "python",
   "pygments_lexer": "ipython3",
   "version": "3.7.4"
  }
 },
 "nbformat": 4,
 "nbformat_minor": 2
}

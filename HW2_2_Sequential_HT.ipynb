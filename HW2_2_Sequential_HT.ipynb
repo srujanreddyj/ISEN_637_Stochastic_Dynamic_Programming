{
 "cells": [
  {
   "cell_type": "code",
   "execution_count": 7,
   "metadata": {},
   "outputs": [],
   "source": [
    "import numpy as np\n",
    "import scipy.stats as st\n",
    "import scipy.interpolate as interp\n",
    "import quantecon as qe\n",
    "import matplotlib.pyplot as plt\n",
    "\n",
    "def expect_loss_choose_0(p, L0):\n",
    "    \"For a given probability return expected loss of choosing hypothesis 0\"\n",
    "    return (1-p)*L0\n",
    "\n",
    "def expect_loss_choose_1(p, L1):\n",
    "    \"For a given probability return expected loss of choosing hypothesis 1\"\n",
    "    return p*L1\n",
    "\n",
    "def EV(p, f0, f1, V):\n",
    "    \"\"\"\n",
    "    Evaluates the expectation of our value function V. To do this, we\n",
    "    need the current probability that model 0 is correct (p), the\n",
    "    distributions (f0, f1), and the function J.\n",
    "    \"\"\"\n",
    "    # Get the current distribution we believe (p*f0 + (1-p)*f1)\n",
    "    curr_dist = p*f0 + (1-p)*f1\n",
    "    \n",
    "    # Get tomorrow's expected distribution through Bayes law\n",
    "    tp1_dist = np.clip((p*f0) / (p*f0 + (1-p)*f1), 0, 1)\n",
    "    \n",
    "    # Evaluate the expectation\n",
    "    EV = curr_dist @ V(tp1_dist)\n",
    "    \n",
    "    return EV\n",
    "\n",
    "def expect_loss_cont(p, c, f0, f1, V):\n",
    "    return c + EV(p, f0, f1, V)\n",
    "\n",
    "\n",
    "def bellman_operator(pgrid, c, f0, f1, L0, L1, V):\n",
    "    \"\"\"\n",
    "    Evaluates the value function for a given continuation value\n",
    "    function; that is, evaluates\n",
    "\n",
    "        V(p) = min((1 - p) L0, p L1, c + E V(p'))\n",
    "\n",
    "    Uses linear interpolation between points.\n",
    "    \"\"\"\n",
    "    m = np.size(pgrid)\n",
    "    assert m == np.size(V)\n",
    "    \n",
    "    V_out = np.zeros(m)\n",
    "    V_interp = interp.UnivariateSpline(pgrid, V, k=1, ext=0)\n",
    "\n",
    "    for (p_ind, p) in enumerate(pgrid):\n",
    "        # Payoff of choosing model 0\n",
    "        p_c_0 = expect_loss_choose_0(p, L0)\n",
    "        p_c_1 = expect_loss_choose_1(p, L1)\n",
    "        p_con = expect_loss_cont(p, c, f0, f1, V_interp)\n",
    "        \n",
    "        V_out[p_ind] = min(p_c_0, p_c_1, p_con)\n",
    "\n",
    "    return V_out\n",
    "\n",
    "#  == Now run at given parameters == #\n",
    "\n",
    "\n",
    "pg = np.linspace(0, 1, 200)\n",
    "\n",
    "# initial value\n",
    "\n",
    "V=100*np.ones(200)\n",
    "\n",
    "m=200\n",
    "f0=np.linspace(0, 1, 2)\n",
    "f1=np.linspace(0, 1, 2)\n",
    "f0[0]=1/4\n",
    "f0[1]=3/4\n",
    "f1[0]=2/3\n",
    "f1[1]=1/3\n",
    "\n",
    "n = 25\n",
    "\n",
    "for i in range(n):\n",
    "    V = bellman_operator(pg, 1, f0, f1, 10, 5, V)\n",
    "\n",
    "p_c_0= (1-pg)*10\n",
    "p_c_1= pg*5\n",
    "\n",
    "lb = pg[np.searchsorted(p_c_1 - V, 1e-10) - 1]\n",
    "ub = pg[np.searchsorted(V - p_c_0, -1e-10)]\n",
    "\n",
    "# Simulate Optimal Policy\n",
    "\n",
    "ndraws=5000\n",
    "\n",
    "tdist = np.empty(ndraws, int)\n",
    "cdist = np.empty(ndraws, int)\n",
    "\n",
    "# Simulate the true distribution is f0\n",
    "\n",
    "for i in range(ndraws):           \n",
    "    drv = qe.discrete_rv.DiscreteRV(f0)\n",
    "    p=1/2\n",
    "    decision_made = False\n",
    "    t = 0\n",
    "    while decision_made is False:\n",
    "            # the draws come from the true distribution\n",
    "            k = drv.draw()[0]\n",
    "            t = t+1\n",
    "            p = np.clip(p*f0[k] / (p*f0[k] + (1-p)*f1[k]), 0, 1)\n",
    "            if p < lb:\n",
    "                decision_made = True\n",
    "                decision = 1\n",
    "            elif p > ub:\n",
    "                decision_made = True\n",
    "                decision = 0\n",
    "    tdist[i] = t\n",
    "    cdist[i] = decision\n",
    "\n",
    "# Mean and Std Dev of stopping times\n",
    "mean=np.mean(tdist)\n",
    "std=np.std(tdist)\n",
    "  \n",
    "# Error Rate\n",
    "Error_rate=np.sum(cdist)/ndraws"
   ]
  },
  {
   "cell_type": "code",
   "execution_count": 8,
   "metadata": {},
   "outputs": [
    {
     "data": {
      "text/plain": [
       "1.7354"
      ]
     },
     "execution_count": 8,
     "metadata": {},
     "output_type": "execute_result"
    }
   ],
   "source": [
    "mean"
   ]
  },
  {
   "cell_type": "code",
   "execution_count": 9,
   "metadata": {},
   "outputs": [
    {
     "data": {
      "text/plain": [
       "1.7354"
      ]
     },
     "execution_count": 9,
     "metadata": {},
     "output_type": "execute_result"
    }
   ],
   "source": [
    "mean"
   ]
  },
  {
   "cell_type": "code",
   "execution_count": 10,
   "metadata": {},
   "outputs": [
    {
     "data": {
      "text/plain": [
       "0.4402"
      ]
     },
     "execution_count": 10,
     "metadata": {},
     "output_type": "execute_result"
    }
   ],
   "source": [
    "Error_rate"
   ]
  },
  {
   "cell_type": "code",
   "execution_count": 11,
   "metadata": {},
   "outputs": [
    {
     "data": {
      "text/plain": [
       "0.4411199836779105"
      ]
     },
     "execution_count": 11,
     "metadata": {},
     "output_type": "execute_result"
    }
   ],
   "source": [
    "std"
   ]
  },
  {
   "cell_type": "code",
   "execution_count": null,
   "metadata": {},
   "outputs": [],
   "source": []
  }
 ],
 "metadata": {
  "kernelspec": {
   "display_name": "Python 3",
   "language": "python",
   "name": "python3"
  },
  "language_info": {
   "codemirror_mode": {
    "name": "ipython",
    "version": 3
   },
   "file_extension": ".py",
   "mimetype": "text/x-python",
   "name": "python",
   "nbconvert_exporter": "python",
   "pygments_lexer": "ipython3",
   "version": "3.7.1"
  }
 },
 "nbformat": 4,
 "nbformat_minor": 2
}
